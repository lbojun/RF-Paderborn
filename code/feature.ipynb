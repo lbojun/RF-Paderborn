{
 "cells": [
  {
   "cell_type": "code",
   "execution_count": 1,
   "id": "nominated-keeping",
   "metadata": {},
   "outputs": [],
   "source": [
    "import csv\n",
    "import pandas as pd\n",
    "import random\n",
    "import torch\n",
    "import torch.nn as nn\n",
    "import torch.utils.data as Data\n",
    "import torchvision\n",
    "from torch.autograd import Variable\n",
    "from torch.utils.data import DataLoader\n",
    "from torch.utils.data import Dataset\n",
    "import torch.nn.functional as F\n",
    "from scipy import stats,signal,fftpack\n",
    "import math\n",
    "from pywt import wavedec\n",
    "import traceback\n",
    "import sys\n",
    "import os\n",
    "\n",
    "#改为测试集地址\n",
    "filepath = 'D:/study/大三下/课设/paderborn-train/testdata/paderborn-test2/testdatashuffle_2.csv'\n",
    "\n",
    "\n",
    "\n",
    "#特征提取\n",
    "dfs = pd.DataFrame(pd.read_csv(filepath))\n",
    "#df = np.array(dfs.drop(['label'],axis=1))\n",
    "df = np.array(dfs)\n",
    "feature_list = []\n",
    "for i in range(df.shape[0]):\n",
    "    df_line =  df[i]\n",
    "    time_mean = df_line.mean()\n",
    "    time_std = df_line.std()\n",
    "    time_max = df_line.max()\n",
    "    time_min = df_line.min()\n",
    "    time_rms = np.sqrt(np.square(df_line).mean())\n",
    "    time_ptp = time_max-time_min \n",
    "    time_median = np.median(df_line)\n",
    "    time_iqr = np.percentile(df_line,75)-np.percentile(df_line,25)\n",
    "    time_pr = np.percentile(df_line,90)-np.percentile(df_line,10)\n",
    "    time_skew = stats.skew(df_line)\n",
    "    time_kurtosis = stats.kurtosis(df_line)\n",
    "    time_var = np.var(df_line)\n",
    "    time_amp = np.abs(df_line).mean()\n",
    "    time_smr = np.square(np.sqrt(np.abs(df_line)).mean())\n",
    "    #下面四个特征需要注意分母为0或接近0问题，可能会发生报错\n",
    "    time_wavefactor = time_rms/time_amp\n",
    "    time_peakfactor = time_max/time_rms\n",
    "    time_pulse = time_max/time_amp\n",
    "    time_margin = time_max/time_smr\n",
    "    #----------  freq-domain feature,15\n",
    "    #采样频率25600Hz\n",
    "    df_fftline = fftpack.fft(df[i].tolist())\n",
    "    freq_fftline = fftpack.fftfreq(len(df[i].tolist()),1/25600)\n",
    "    df_fftline = abs(df_fftline[freq_fftline>=0])\n",
    "    freq_fftline = freq_fftline[freq_fftline>=0]\n",
    "    #基本特征,依次为均值，标准差，最大值，最小值，均方根，中位数，四分位差，百分位差\n",
    "    freq_mean = df_fftline.mean()\n",
    "    freq_std = df_fftline.std()\n",
    "    freq_max = df_fftline.max()\n",
    "    freq_min = df_fftline.min()\n",
    "    freq_rms = np.sqrt(np.square(df_fftline).mean())\n",
    "    freq_median = np.median(df_fftline)\n",
    "    freq_iqr = np.percentile(df_fftline,75)-np.percentile(df_fftline,25)\n",
    "    freq_pr = np.percentile(df_fftline,90)-np.percentile(df_fftline,10)\n",
    "    #f2 f3 f4反映频谱集中程度\n",
    "    freq_f2 = np.square((df_fftline-freq_mean)).sum()/(len(df_fftline)-1)\n",
    "    freq_f3 = pow((df_fftline-freq_mean),3).sum()/(len(df_fftline)*pow(freq_f2,1.5))\n",
    "    freq_f4 = pow((df_fftline-freq_mean),4).sum()/(len(df_fftline)*pow(freq_f2,2))\n",
    "    #f5 f6 f7 f8反映主频带位置\n",
    "    freq_f5 = np.multiply(freq_fftline,df_fftline).sum()/df_fftline.sum()\n",
    "    freq_f6 = np.sqrt(np.multiply(np.square(freq_fftline),df_fftline).sum())/df_fftline.sum()\n",
    "    freq_f7 = np.sqrt(np.multiply(pow(freq_fftline,4),df_fftline).sum())/np.multiply(np.square(freq_fftline),df_fftline).sum()\n",
    "    freq_f8 = np.multiply(np.square(freq_fftline),df_fftline).sum()/np.sqrt(np.multiply(pow(freq_fftline,4),df_fftline).sum()*df_fftline.sum())\n",
    "    #----------  timefreq-domain feature,12\n",
    "    #5级小波变换，最后输出6个能量特征和其归一化能量特征\n",
    "    cA5, cD5, cD4, cD3, cD2, cD1 = wavedec(df[i], 'db10', level=5)\n",
    "    ener_cA5 = np.square(cA5).sum()\n",
    "    ener_cD5 = np.square(cD5).sum()\n",
    "    ener_cD4 = np.square(cD4).sum()\n",
    "    ener_cD3 = np.square(cD3).sum()\n",
    "    ener_cD2 = np.square(cD2).sum()\n",
    "    ener_cD1 = np.square(cD1).sum()\n",
    "    ener = ener_cA5 + ener_cD1 + ener_cD2 + ener_cD3 + ener_cD4 + ener_cD5\n",
    "    ratio_cA5 = ener_cA5/ener\n",
    "    ratio_cD5 = ener_cD5/ener\n",
    "    ratio_cD4 = ener_cD4/ener\n",
    "    ratio_cD3 = ener_cD3/ener\n",
    "    ratio_cD2 = ener_cD2/ener\n",
    "    ratio_cD1 = ener_cD1/ener\n",
    "    feature_list.extend([[time_mean,time_std,time_max,time_min,time_rms,time_ptp,time_median,time_iqr,time_pr,time_skew,time_kurtosis,time_var,time_amp,\n",
    "                        time_smr,time_wavefactor,time_peakfactor,time_pulse,time_margin,freq_mean,freq_std,freq_max,freq_min,freq_rms,freq_median,\n",
    "                        freq_iqr,freq_pr,freq_f2,freq_f3,freq_f4,freq_f5,freq_f6,freq_f7,freq_f8,ener_cA5,ener_cD1,ener_cD2,ener_cD3,ener_cD4,ener_cD5,\n",
    "                        ratio_cA5,ratio_cD1,ratio_cD2,ratio_cD3,ratio_cD4,ratio_cD5]])\n",
    "feature = np.array(feature_list)\n",
    "\n"
   ]
  },
  {
   "cell_type": "code",
   "execution_count": 2,
   "id": "aquatic-priest",
   "metadata": {},
   "outputs": [],
   "source": [
    "columns_list=['time_mean','time_std','time_max','time_min','time_rms','time_ptp','time_median','time_iqr','time_pr','time_skew','time_kurtosis','time_var','time_amp',                'time_smr','time_wavefactor','time_peakfactor','time_pulse','time_margin','freq_mean','freq_std','freq_max','freq_min','freq_rms','freq_median',               'freq_iqr','freq_pr','freq_f2','freq_f3','freq_f4','freq_f5','freq_f6','freq_f7','freq_f8','ener_cA5','ener_cD1','ener_cD2','ener_cD3','ener_cD4',        'ener_cD5','ratio_cA5','ratio_cD1','ratio_cD2','ratio_cD3','ratio_cD4','ratio_cD5']\n",
    "result = pd.DataFrame(feature,columns = columns_list)\n",
    "result.to_csv('test_feature.csv', sep=',', header=True, index=False)"
   ]
  },
  {
   "cell_type": "code",
   "execution_count": null,
   "id": "horizontal-palestine",
   "metadata": {},
   "outputs": [],
   "source": []
  }
 ],
 "metadata": {
  "kernelspec": {
   "display_name": "Python 3",
   "language": "python",
   "name": "python3"
  },
  "language_info": {
   "codemirror_mode": {
    "name": "ipython",
    "version": 3
   },
   "file_extension": ".py",
   "mimetype": "text/x-python",
   "name": "python",
   "nbconvert_exporter": "python",
   "pygments_lexer": "ipython3",
   "version": "3.8.5"
  },
  "varInspector": {
   "cols": {
    "lenName": 16,
    "lenType": 16,
    "lenVar": 40
   },
   "kernels_config": {
    "python": {
     "delete_cmd_postfix": "",
     "delete_cmd_prefix": "del ",
     "library": "var_list.py",
     "varRefreshCmd": "print(var_dic_list())"
    },
    "r": {
     "delete_cmd_postfix": ") ",
     "delete_cmd_prefix": "rm(",
     "library": "var_list.r",
     "varRefreshCmd": "cat(var_dic_list()) "
    }
   },
   "types_to_exclude": [
    "module",
    "function",
    "builtin_function_or_method",
    "instance",
    "_Feature"
   ],
   "window_display": false
  }
 },
 "nbformat": 4,
 "nbformat_minor": 5
}
