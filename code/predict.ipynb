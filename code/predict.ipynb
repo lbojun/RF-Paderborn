{
 "cells": [
  {
   "cell_type": "code",
   "execution_count": 1,
   "id": "improved-intelligence",
   "metadata": {},
   "outputs": [],
   "source": [
    "import csv\n",
    "import pandas as pd\n",
    "import joblib\n",
    "from sklearn.ensemble import RandomForestClassifier\n",
    "\n",
    "clf=joblib.load('paderborn.model')  #加载模型\n",
    "test = pd.DataFrame(pd.read_csv('test_feature.csv')) #读取test提取的特征\n",
    "result = clf.predict(test)\n",
    "result = pd.DataFrame(result)\n",
    "csv_headers = ['label']\n",
    "result.to_csv('result3.csv', header=csv_headers, index=False, mode='a+', encoding='utf-8') #将预测结果导入csv文件中"
   ]
  },
  {
   "cell_type": "code",
   "execution_count": null,
   "id": "about-matter",
   "metadata": {},
   "outputs": [],
   "source": []
  }
 ],
 "metadata": {
  "kernelspec": {
   "display_name": "Python 3",
   "language": "python",
   "name": "python3"
  },
  "language_info": {
   "codemirror_mode": {
    "name": "ipython",
    "version": 3
   },
   "file_extension": ".py",
   "mimetype": "text/x-python",
   "name": "python",
   "nbconvert_exporter": "python",
   "pygments_lexer": "ipython3",
   "version": "3.8.5"
  },
  "varInspector": {
   "cols": {
    "lenName": 16,
    "lenType": 16,
    "lenVar": 40
   },
   "kernels_config": {
    "python": {
     "delete_cmd_postfix": "",
     "delete_cmd_prefix": "del ",
     "library": "var_list.py",
     "varRefreshCmd": "print(var_dic_list())"
    },
    "r": {
     "delete_cmd_postfix": ") ",
     "delete_cmd_prefix": "rm(",
     "library": "var_list.r",
     "varRefreshCmd": "cat(var_dic_list()) "
    }
   },
   "types_to_exclude": [
    "module",
    "function",
    "builtin_function_or_method",
    "instance",
    "_Feature"
   ],
   "window_display": false
  }
 },
 "nbformat": 4,
 "nbformat_minor": 5
}
