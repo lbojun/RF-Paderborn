{
 "cells": [
  {
   "cell_type": "code",
   "execution_count": null,
   "id": "speaking-profession",
   "metadata": {},
   "outputs": [],
   "source": [
    "import csv\n",
    "import pandas as pd\n",
    "import random\n",
    "from scipy import stats,signal,fftpack\n",
    "import math\n",
    "from pywt import wavedec\n",
    "import traceback\n",
    "import sys\n",
    "import os\n",
    "import joblib\n",
    "from sklearn.metrics import precision_score, recall_score, accuracy_score, f1_score, roc_auc_score\n",
    "from sklearn.ensemble import RandomForestClassifier\n",
    "params = {}\n",
    "params['n_estimators'] = 30\n",
    "params['max_depth'] = 5\n",
    "params['max_features'] = \"auto\"\n",
    "params['min_samples_split'] = 2\n",
    "params['min_samples_leaf'] = 3\n",
    "params['train'] = '/Users/zangmenglei/data/train.csv'\n",
    "params['test'] = '/Users/zangmenglei/data/test.csv'\n",
    "\n",
    "\n",
    "#训练集\n",
    "data = pd.DataFrame(pd.read_csv('D:/study/大三下/课设/paderborn-train/traindata_N15_M07_F10.csv'))\n",
    "train_y = data.loc[:,['label']]\n",
    "\n",
    "\n",
    "#训练集特征\n",
    "train_x = pd.DataFrame(pd.read_csv('D:/study/大三下/课设/paderborn-train/testdata/feature/N15M07F10.csv'))\n",
    "Y = pd.Categorical(train_y['label']).codes\n",
    "\n",
    "clf = RandomForestClassifier(n_estimators=params['n_estimators'],\n",
    "                             max_features=params['max_features'],\n",
    "                             max_depth=params['max_depth'],\n",
    "                             min_samples_split=params['min_samples_split'],\n",
    "                             min_samples_leaf=params['min_samples_leaf'],\n",
    "                             criterion = \"gini\"\n",
    "                            ).fit(train_x, Y)\n",
    "\n",
    "joblib.dump(clf,'paderborn.model') #保存模型\n"
   ]
  }
 ],
 "metadata": {
  "kernelspec": {
   "display_name": "Python 3",
   "language": "python",
   "name": "python3"
  },
  "language_info": {
   "codemirror_mode": {
    "name": "ipython",
    "version": 3
   },
   "file_extension": ".py",
   "mimetype": "text/x-python",
   "name": "python",
   "nbconvert_exporter": "python",
   "pygments_lexer": "ipython3",
   "version": "3.8.5"
  },
  "varInspector": {
   "cols": {
    "lenName": 16,
    "lenType": 16,
    "lenVar": 40
   },
   "kernels_config": {
    "python": {
     "delete_cmd_postfix": "",
     "delete_cmd_prefix": "del ",
     "library": "var_list.py",
     "varRefreshCmd": "print(var_dic_list())"
    },
    "r": {
     "delete_cmd_postfix": ") ",
     "delete_cmd_prefix": "rm(",
     "library": "var_list.r",
     "varRefreshCmd": "cat(var_dic_list()) "
    }
   },
   "types_to_exclude": [
    "module",
    "function",
    "builtin_function_or_method",
    "instance",
    "_Feature"
   ],
   "window_display": false
  }
 },
 "nbformat": 4,
 "nbformat_minor": 5
}
